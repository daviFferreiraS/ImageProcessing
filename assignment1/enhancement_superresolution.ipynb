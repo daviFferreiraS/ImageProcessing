{
 "cells": [
  {
   "cell_type": "code",
   "execution_count": 1,
   "metadata": {},
   "outputs": [],
   "source": [
    "# Davi Fagundes Ferreira da Silva - 12544013\n",
    "# SCC0251 - Prof Moacir Ponti - 7 semester\n",
    "\n",
    "import numpy as np\n",
    "import imageio.v3 as imageio\n",
    "\n",
    "import matplotlib.pyplot as plt"
   ]
  },
  {
   "cell_type": "code",
   "execution_count": 2,
   "metadata": {},
   "outputs": [],
   "source": [
    "def gamma_correction(pixel, gamma):\n",
    "    return np.ceil(255*(np.power(pixel/255.0, 1/gamma)))\n",
    "\n",
    "apply_gamma = np.vectorize(gamma_correction)"
   ]
  },
  {
   "cell_type": "code",
   "execution_count": 33,
   "metadata": {},
   "outputs": [],
   "source": [
    "def histogram_equalization(img, hist):\n",
    "\n",
    "    histC = np.zeros(256).astype(int)\n",
    "\n",
    "    # cumulative histogram\n",
    "    histC[0] = hist[0]\n",
    "    for i in range(1, 256):\n",
    "        histC[i] = hist[i] + histC[i-1]\n",
    "    \n",
    "    hist_transf = np.zeros(256).astype(int)\n",
    "\n",
    "    N,M = img.shape\n",
    "\n",
    "    img_eq = np.zeros([N,M]).astype(int)\n",
    "\n",
    "    for z in range(256):\n",
    "        s = ( 255/float(np.sum(hist)) )*histC[z]\n",
    "        hist_transf[z] = s\n",
    "\n",
    "        img_eq[ np.where(img == z) ] = s\n",
    "\n",
    "    return (img_eq, hist_transf)"
   ]
  },
  {
   "cell_type": "code",
   "execution_count": null,
   "metadata": {},
   "outputs": [],
   "source": [
    "def join_histograms(histograms):\n",
    "    joint = np.zeros(histograms[0].shape).astype(int)\n",
    "    for hist in histograms:\n",
    "        joint = joint + hist\n",
    "    \n",
    "    return joint"
   ]
  },
  {
   "cell_type": "code",
   "execution_count": 16,
   "metadata": {},
   "outputs": [],
   "source": [
    "def superresolution(imgs):\n",
    "    N, M = imgs[0].shape\n",
    "    resulting_H = np.zeros([2*N, 2*M]).astype(np.uint8)\n",
    "\n",
    "    for i in range(0,N):\n",
    "        for j in range(0,M):\n",
    "            resulting_H[2*i][2*j]     = imgs[0][i][j]\n",
    "            resulting_H[2*i+1][2*j]   = imgs[1][i][j]\n",
    "            resulting_H[2*i][2*j+1]   = imgs[2][i][j]\n",
    "            resulting_H[2*i+1][2*j+1] = imgs[3][i][j]\n",
    "\n",
    "    return resulting_H"
   ]
  },
  {
   "cell_type": "code",
   "execution_count": 31,
   "metadata": {},
   "outputs": [],
   "source": [
    "def RMSE(H, H_hat):\n",
    "    return np.sqrt(((H.astype(np.int32) - H_hat.astype(np.int32))**2).mean())\n"
   ]
  },
  {
   "cell_type": "code",
   "execution_count": 27,
   "metadata": {},
   "outputs": [],
   "source": [
    "file_prefix = input()\n",
    "imgs = []\n",
    "for i in range(0,4):\n",
    "    img = imageio.imread(f\"test_cases/{file_prefix}{i}.png\")\n",
    "    imgs.append(img)\n",
    "\n",
    "H_hat = superresolution(imgs)"
   ]
  },
  {
   "cell_type": "code",
   "execution_count": 32,
   "metadata": {},
   "outputs": [
    {
     "data": {
      "text/plain": [
       "12.562984172543564"
      ]
     },
     "execution_count": 32,
     "metadata": {},
     "output_type": "execute_result"
    }
   ],
   "source": [
    "img = imageio.imread(\"test_cases/05_high.png\")\n",
    "RMSE(img, H_hat)"
   ]
  }
 ],
 "metadata": {
  "kernelspec": {
   "display_name": "Python 3",
   "language": "python",
   "name": "python3"
  },
  "language_info": {
   "codemirror_mode": {
    "name": "ipython",
    "version": 3
   },
   "file_extension": ".py",
   "mimetype": "text/x-python",
   "name": "python",
   "nbconvert_exporter": "python",
   "pygments_lexer": "ipython3",
   "version": "3.10.4"
  }
 },
 "nbformat": 4,
 "nbformat_minor": 2
}
