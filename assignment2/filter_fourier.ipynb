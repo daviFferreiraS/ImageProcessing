{
 "cells": [
  {
   "cell_type": "code",
   "execution_count": 2,
   "metadata": {},
   "outputs": [],
   "source": [
    "import numpy as np\n",
    "import imageio.v3 as imageio\n",
    "import matplotlib.pyplot as plt"
   ]
  },
  {
   "cell_type": "markdown",
   "metadata": {},
   "source": [
    "#### Funções"
   ]
  },
  {
   "cell_type": "code",
   "execution_count": 3,
   "metadata": {},
   "outputs": [],
   "source": [
    "def RMSE(H, H_hat):\n",
    "    return np.sqrt(((H.astype(np.int32) - H_hat.astype(np.int32))**2).mean())"
   ]
  },
  {
   "cell_type": "code",
   "execution_count": 4,
   "metadata": {},
   "outputs": [],
   "source": [
    "def get_D(input_image):\n",
    "    P, Q = input_image.shape\n",
    "\n",
    "    result = np.zeros((P,Q))\n",
    "    for u in range(P):\n",
    "        for v in range(Q):\n",
    "            result[u][v] = np.sqrt( ( u - P/2)**2 + ( v - Q/2)**2 )\n",
    "\n",
    "    return result"
   ]
  },
  {
   "cell_type": "code",
   "execution_count": 5,
   "metadata": {},
   "outputs": [],
   "source": [
    "def lowpass_filter(input_image, radius):\n",
    "    D_matrix = get_D(input_image)\n",
    "\n",
    "    P, Q = input_image.shape\n",
    "\n",
    "    result = np.zeros((P,Q))\n",
    "    for i in range(P):\n",
    "        for j in range(Q):\n",
    "            if D_matrix[i,j] <= radius:\n",
    "                result[i,j] = 1\n",
    "    \n",
    "    return result"
   ]
  },
  {
   "cell_type": "code",
   "execution_count": 6,
   "metadata": {},
   "outputs": [],
   "source": [
    "def highpass_filter(input_image, radius):\n",
    "    D_matrix = get_D(input_image)\n",
    "\n",
    "    P, Q = input_image.shape\n",
    "\n",
    "    result = np.zeros((P,Q))\n",
    "    for i in range(P):\n",
    "        for j in range(Q):\n",
    "            if D_matrix[i,j] > radius:\n",
    "                result[i,j] = 1\n",
    "    \n",
    "    return result"
   ]
  },
  {
   "cell_type": "code",
   "execution_count": 14,
   "metadata": {},
   "outputs": [],
   "source": [
    "def bandstop_filter(input_image, radius0, radius1):\n",
    "    D_matrix = get_D(input_image)\n",
    "\n",
    "    P, Q = input_image.shape\n",
    "\n",
    "    result = np.ones((P,Q))\n",
    "    for i in range(P):\n",
    "        for j in range(Q):\n",
    "            if radius0 >= D_matrix[i,j] >= radius1 :\n",
    "                result[i,j] = 0\n",
    "    \n",
    "    return result"
   ]
  },
  {
   "cell_type": "code",
   "execution_count": 8,
   "metadata": {},
   "outputs": [],
   "source": [
    "def Laplacian_highpass_filter(input_image, radius0, radius1):\n",
    "    P, Q = input_image.shape\n",
    "\n",
    "    result = np.zeros((P,Q))\n",
    "    for u in range(P):\n",
    "        for v in range(Q):\n",
    "            result[u][v] =  -4 * (np.pi**2) * (( u - P/2)**2 + ( v - Q/2)**2 )\n",
    "    \n",
    "    return result"
   ]
  },
  {
   "cell_type": "code",
   "execution_count": 9,
   "metadata": {},
   "outputs": [],
   "source": [
    "def gaussian_lowpass_filter(input_image, rho1, rho2):\n",
    "    # acknowledged as blur\n",
    "    P, Q = input_image.shape\n",
    "\n",
    "    result = np.zeros((P,Q))\n",
    "    for u in range(P):\n",
    "        for v in range(Q):\n",
    "            x =  ((( u - P/2)**2) / (2*rho1**2)) + ((( v - Q/2)**2) / (2*rho2**2))\n",
    "            result[u][v] = np.e**(-x)\n",
    "    return result"
   ]
  },
  {
   "cell_type": "code",
   "execution_count": 10,
   "metadata": {},
   "outputs": [],
   "source": [
    "def generate_freq_domain(input_image):\n",
    "    freq_domain = np.fft.fft2(input_image)\n",
    "    return np.fft.fftshift(freq_domain)"
   ]
  },
  {
   "cell_type": "code",
   "execution_count": 11,
   "metadata": {},
   "outputs": [],
   "source": [
    "def restore_image(H):\n",
    "    result = np.fft.ifftshift(H)\n",
    "    result = np.real(np.fft.ifft2(result))\n",
    "\n",
    "    result *= 255/result.max()\n",
    "\n",
    "    return result"
   ]
  },
  {
   "cell_type": "markdown",
   "metadata": {},
   "source": [
    "#### Entrada"
   ]
  },
  {
   "cell_type": "code",
   "execution_count": 12,
   "metadata": {},
   "outputs": [
    {
     "ename": "ValueError",
     "evalue": "invalid literal for int() with base 10: ''",
     "output_type": "error",
     "traceback": [
      "\u001b[1;31m---------------------------------------------------------------------------\u001b[0m",
      "\u001b[1;31mValueError\u001b[0m                                Traceback (most recent call last)",
      "Input \u001b[1;32mIn [12]\u001b[0m, in \u001b[0;36m<module>\u001b[1;34m\u001b[0m\n\u001b[0;32m      1\u001b[0m input_image \u001b[38;5;241m=\u001b[39m \u001b[38;5;28minput\u001b[39m()\u001b[38;5;241m.\u001b[39mrstrip()\n\u001b[0;32m      2\u001b[0m reference_image \u001b[38;5;241m=\u001b[39m \u001b[38;5;28minput\u001b[39m()\u001b[38;5;241m.\u001b[39mrstrip()\n\u001b[1;32m----> 3\u001b[0m filter_index \u001b[38;5;241m=\u001b[39m \u001b[38;5;28;43mint\u001b[39;49m\u001b[43m(\u001b[49m\u001b[38;5;28;43minput\u001b[39;49m\u001b[43m(\u001b[49m\u001b[43m)\u001b[49m\u001b[43m)\u001b[49m\n\u001b[0;32m      5\u001b[0m input_image \u001b[38;5;241m=\u001b[39m imageio\u001b[38;5;241m.\u001b[39mimread(input_image)\n\u001b[0;32m      6\u001b[0m reference_image \u001b[38;5;241m=\u001b[39m imageio\u001b[38;5;241m.\u001b[39mimread(reference_image)\n",
      "\u001b[1;31mValueError\u001b[0m: invalid literal for int() with base 10: ''"
     ]
    }
   ],
   "source": [
    "input_image = input().rstrip()\n",
    "reference_image = input().rstrip()\n",
    "filter_index = int(input())\n",
    "\n",
    "input_image = imageio.imread(input_image)\n",
    "reference_image = imageio.imread(reference_image)\n",
    "\n",
    "param_1 = 0; param_2 = 0;\n",
    "\n",
    "if filter_index < 2: # Radius for filters 0 and 1\n",
    "    param_1 = np.float32(input()) \n",
    "elif filter_index != 3: # Parameters for filters 2 and 4\n",
    "    param_1 = np.float32(input())\n",
    "    param_2 = np.float32(input())\n",
    "\n",
    "# a) Generate the Fourier Spectrum ( F ( I ) ) for the input image I.\n",
    "fourier_spectrum = generate_freq_domain(input_image)\n",
    "result = np.zeros(fourier_spectrum.shape)\n",
    "\n",
    "# b) Filter F ( I ) multiplying it by the input filter Mi.\n",
    "if filter_index == 0:\n",
    "    input_filter = lowpass_filter(input_image, param_1)\n",
    "    result = np.multiply(fourier_spectrum, input_filter)\n",
    "elif filter_index == 1:\n",
    "    input_filter = highpass_filter(input_image, param_1)\n",
    "    result = np.multiply(fourier_spectrum, input_filter)\n",
    "elif filter_index == 2:\n",
    "    input_filter = bandstop_filter(input_image, param_1, param_2)\n",
    "    result = np.multiply(fourier_spectrum, input_filter)\n",
    "elif filter_index == 3:\n",
    "    input_filter = Laplacian_highpass_filter(input_image)\n",
    "    result = np.multiply(fourier_spectrum, input_filter)\n",
    "else:\n",
    "    input_filter = gaussian_lowpass_filter(input_image, param_1, param_2)\n",
    "    result = np.multiply(fourier_spectrum, input_filter)\n",
    "\n",
    "# c) Generate the filtered image G back in the space domain.\n",
    "restored_image = restore_image(result)\n"
   ]
  },
  {
   "cell_type": "code",
   "execution_count": 15,
   "metadata": {},
   "outputs": [
    {
     "data": {
      "text/plain": [
       "<matplotlib.image.AxesImage at 0x2a15c3bba30>"
      ]
     },
     "execution_count": 15,
     "metadata": {},
     "output_type": "execute_result"
    },
    {
     "data": {
      "image/png": "[encoded data removed]",
      "text/plain": [
       "<Figure size 432x288 with 1 Axes>"
      ]
     },
     "metadata": {
      "needs_background": "light"
     },
     "output_type": "display_data"
    }
   ],
   "source": [
    "input_image = imageio.imread(\"test_cases_data/apollo17.png\")\n",
    "\n",
    "input_filter = bandstop_filter(input_image, 50, 30)\n",
    "\n",
    "fourier_spectrum = generate_freq_domain(input_image)\n",
    "freq_domain = np.fft.fft2(input_image)\n",
    "\n",
    "plt.imshow(input_filter, cmap='gray')"
   ]
  }
 ],
 "metadata": {
  "kernelspec": {
   "display_name": "Python 3",
   "language": "python",
   "name": "python3"
  },
  "language_info": {
   "codemirror_mode": {
    "name": "ipython",
    "version": 3
   },
   "file_extension": ".py",
   "mimetype": "text/x-python",
   "name": "python",
   "nbconvert_exporter": "python",
   "pygments_lexer": "ipython3",
   "version": "3.10.4"
  }
 },
 "nbformat": 4,
 "nbformat_minor": 2
}
